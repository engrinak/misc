{
 "cells": [
  {
   "cell_type": "markdown",
   "id": "speaking-special",
   "metadata": {},
   "source": [
    "I want to investigate ways of generating fake timeseries data, with some randomization but also has repeating patterns."
   ]
  },
  {
   "cell_type": "code",
   "execution_count": null,
   "id": "vertical-sixth",
   "metadata": {},
   "outputs": [],
   "source": [
    "#Repeating pattern in python\n",
    "#From https://stackoverflow.com/questions/21068971/how-to-fill-in-rows-with-repeating-data-in-pandas\n",
    "\n",
    "from itertools import cycle\n",
    "seq = cycle([1, 2, 3])\n",
    "df['Seq'] = [next(seq) for count in range(df.shape[0])]\n"
   ]
  }
 ],
 "metadata": {
  "kernelspec": {
   "display_name": "Python 3",
   "language": "python",
   "name": "python3"
  },
  "language_info": {
   "codemirror_mode": {
    "name": "ipython",
    "version": 3
   },
   "file_extension": ".py",
   "mimetype": "text/x-python",
   "name": "python",
   "nbconvert_exporter": "python",
   "pygments_lexer": "ipython3",
   "version": "3.7.9"
  }
 },
 "nbformat": 4,
 "nbformat_minor": 5
}
