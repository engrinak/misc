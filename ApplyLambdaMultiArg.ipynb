{
 "cells": [
  {
   "cell_type": "markdown",
   "id": "serial-parliament",
   "metadata": {},
   "source": [
    "## Apply lambda function with multiple arguments and single return."
   ]
  },
  {
   "cell_type": "code",
   "execution_count": 92,
   "id": "referenced-belle",
   "metadata": {},
   "outputs": [],
   "source": [
    "import pandas as pd\n",
    "import numpy as np\n",
    "\n",
    "#Make some fake data\n",
    "mu, sigma = 250, 50\n",
    "A = np.random.normal(mu, sigma, 5)\n",
    "mu, sigma = 250, 1\n",
    "B = np.random.normal(mu, sigma, 5)\n",
    "\n",
    "def C(A, B):\n",
    "    C = A / (2 * B)\n",
    "    return C\n",
    "\n",
    "df = pd.DataFrame({'A':A, 'B':B})\n",
    "\n",
    "df['C'] = df.apply(lambda x: C(x['A'], x['B']), axis=1)"
   ]
  },
  {
   "cell_type": "code",
   "execution_count": 91,
   "id": "little-gross",
   "metadata": {},
   "outputs": [
    {
     "data": {
      "text/html": [
       "<div>\n",
       "<style scoped>\n",
       "    .dataframe tbody tr th:only-of-type {\n",
       "        vertical-align: middle;\n",
       "    }\n",
       "\n",
       "    .dataframe tbody tr th {\n",
       "        vertical-align: top;\n",
       "    }\n",
       "\n",
       "    .dataframe thead th {\n",
       "        text-align: right;\n",
       "    }\n",
       "</style>\n",
       "<table border=\"1\" class=\"dataframe\">\n",
       "  <thead>\n",
       "    <tr style=\"text-align: right;\">\n",
       "      <th></th>\n",
       "      <th>A</th>\n",
       "      <th>B</th>\n",
       "      <th>C</th>\n",
       "    </tr>\n",
       "  </thead>\n",
       "  <tbody>\n",
       "    <tr>\n",
       "      <th>0</th>\n",
       "      <td>250.685790</td>\n",
       "      <td>249.921431</td>\n",
       "      <td>0.501529</td>\n",
       "    </tr>\n",
       "    <tr>\n",
       "      <th>1</th>\n",
       "      <td>201.749678</td>\n",
       "      <td>251.270353</td>\n",
       "      <td>0.401459</td>\n",
       "    </tr>\n",
       "    <tr>\n",
       "      <th>2</th>\n",
       "      <td>283.070652</td>\n",
       "      <td>250.804952</td>\n",
       "      <td>0.564324</td>\n",
       "    </tr>\n",
       "    <tr>\n",
       "      <th>3</th>\n",
       "      <td>310.630758</td>\n",
       "      <td>248.473995</td>\n",
       "      <td>0.625077</td>\n",
       "    </tr>\n",
       "    <tr>\n",
       "      <th>4</th>\n",
       "      <td>163.565622</td>\n",
       "      <td>249.431943</td>\n",
       "      <td>0.327876</td>\n",
       "    </tr>\n",
       "  </tbody>\n",
       "</table>\n",
       "</div>"
      ],
      "text/plain": [
       "            A           B         C\n",
       "0  250.685790  249.921431  0.501529\n",
       "1  201.749678  251.270353  0.401459\n",
       "2  283.070652  250.804952  0.564324\n",
       "3  310.630758  248.473995  0.625077\n",
       "4  163.565622  249.431943  0.327876"
      ]
     },
     "execution_count": 91,
     "metadata": {},
     "output_type": "execute_result"
    }
   ],
   "source": [
    "df"
   ]
  },
  {
   "cell_type": "markdown",
   "id": "developmental-anxiety",
   "metadata": {},
   "source": [
    "## Apply lambda function with multiple arguments and multiple returns."
   ]
  },
  {
   "cell_type": "code",
   "execution_count": 118,
   "id": "respected-tyler",
   "metadata": {},
   "outputs": [],
   "source": [
    "def C(A, B):\n",
    "    C = A / (2 * B)\n",
    "    D = A**2 + B**2\n",
    "    return C,D\n",
    "\n",
    "df = pd.DataFrame({'A':A, 'B':B})\n",
    "                  \n",
    "df[['C', 'D']] = df.apply(lambda x: C(x['A'], x['B']), axis=1, result_type='expand').values.tolist()"
   ]
  },
  {
   "cell_type": "code",
   "execution_count": 119,
   "id": "affiliated-genesis",
   "metadata": {},
   "outputs": [
    {
     "data": {
      "text/html": [
       "<div>\n",
       "<style scoped>\n",
       "    .dataframe tbody tr th:only-of-type {\n",
       "        vertical-align: middle;\n",
       "    }\n",
       "\n",
       "    .dataframe tbody tr th {\n",
       "        vertical-align: top;\n",
       "    }\n",
       "\n",
       "    .dataframe thead th {\n",
       "        text-align: right;\n",
       "    }\n",
       "</style>\n",
       "<table border=\"1\" class=\"dataframe\">\n",
       "  <thead>\n",
       "    <tr style=\"text-align: right;\">\n",
       "      <th></th>\n",
       "      <th>A</th>\n",
       "      <th>B</th>\n",
       "      <th>C</th>\n",
       "      <th>D</th>\n",
       "    </tr>\n",
       "  </thead>\n",
       "  <tbody>\n",
       "    <tr>\n",
       "      <th>0</th>\n",
       "      <td>215.968532</td>\n",
       "      <td>250.080847</td>\n",
       "      <td>0.431797</td>\n",
       "      <td>109182.836672</td>\n",
       "    </tr>\n",
       "    <tr>\n",
       "      <th>1</th>\n",
       "      <td>226.384896</td>\n",
       "      <td>250.921023</td>\n",
       "      <td>0.451108</td>\n",
       "      <td>114211.481127</td>\n",
       "    </tr>\n",
       "    <tr>\n",
       "      <th>2</th>\n",
       "      <td>193.594525</td>\n",
       "      <td>249.545587</td>\n",
       "      <td>0.387894</td>\n",
       "      <td>99751.840257</td>\n",
       "    </tr>\n",
       "    <tr>\n",
       "      <th>3</th>\n",
       "      <td>198.692321</td>\n",
       "      <td>249.421680</td>\n",
       "      <td>0.398306</td>\n",
       "      <td>101689.812804</td>\n",
       "    </tr>\n",
       "    <tr>\n",
       "      <th>4</th>\n",
       "      <td>218.264168</td>\n",
       "      <td>251.624611</td>\n",
       "      <td>0.433710</td>\n",
       "      <td>110954.191636</td>\n",
       "    </tr>\n",
       "  </tbody>\n",
       "</table>\n",
       "</div>"
      ],
      "text/plain": [
       "            A           B         C              D\n",
       "0  215.968532  250.080847  0.431797  109182.836672\n",
       "1  226.384896  250.921023  0.451108  114211.481127\n",
       "2  193.594525  249.545587  0.387894   99751.840257\n",
       "3  198.692321  249.421680  0.398306  101689.812804\n",
       "4  218.264168  251.624611  0.433710  110954.191636"
      ]
     },
     "execution_count": 119,
     "metadata": {},
     "output_type": "execute_result"
    }
   ],
   "source": [
    "df"
   ]
  }
 ],
 "metadata": {
  "kernelspec": {
   "display_name": "Python 3",
   "language": "python",
   "name": "python3"
  },
  "language_info": {
   "codemirror_mode": {
    "name": "ipython",
    "version": 3
   },
   "file_extension": ".py",
   "mimetype": "text/x-python",
   "name": "python",
   "nbconvert_exporter": "python",
   "pygments_lexer": "ipython3",
   "version": "3.7.9"
  }
 },
 "nbformat": 4,
 "nbformat_minor": 5
}
